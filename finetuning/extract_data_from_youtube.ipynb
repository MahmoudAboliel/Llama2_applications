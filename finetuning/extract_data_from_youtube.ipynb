{
  "cells": [
    {
      "cell_type": "code",
      "execution_count": 1,
      "metadata": {
        "colab": {
          "base_uri": "https://localhost:8080/"
        },
        "id": "jUohWwY-zwtp",
        "outputId": "ba046dbe-43b0-4999-aaee-8ce91050ebce"
      },
      "outputs": [
        {
          "name": "stdout",
          "output_type": "stream",
          "text": [
            "Collecting youtube-search-python\n",
            "  Downloading youtube_search_python-1.6.6-py3-none-any.whl (89 kB)\n",
            "\u001b[2K     \u001b[90m━━━━━━━━━━━━━━━━━━━━━━━━━━━━━━━━━━━━━━━━\u001b[0m \u001b[32m89.1/89.1 kB\u001b[0m \u001b[31m2.1 MB/s\u001b[0m eta \u001b[36m0:00:00\u001b[0m\n",
            "\u001b[?25hCollecting youtube-dl\n",
            "  Downloading youtube_dl-2021.12.17-py2.py3-none-any.whl (1.9 MB)\n",
            "\u001b[2K     \u001b[90m━━━━━━━━━━━━━━━━━━━━━━━━━━━━━━━━━━━━━━━━\u001b[0m \u001b[32m1.9/1.9 MB\u001b[0m \u001b[31m11.0 MB/s\u001b[0m eta \u001b[36m0:00:00\u001b[0m\n",
            "\u001b[?25hCollecting youtube-transcript-api\n",
            "  Downloading youtube_transcript_api-0.6.2-py3-none-any.whl (24 kB)\n",
            "Collecting httpx>=0.14.2 (from youtube-search-python)\n",
            "  Downloading httpx-0.27.0-py3-none-any.whl (75 kB)\n",
            "\u001b[2K     \u001b[90m━━━━━━━━━━━━━━━━━━━━━━━━━━━━━━━━━━━━━━━━\u001b[0m \u001b[32m75.6/75.6 kB\u001b[0m \u001b[31m1.4 MB/s\u001b[0m eta \u001b[36m0:00:00\u001b[0m\n",
            "\u001b[?25hRequirement already satisfied: requests in /usr/local/lib/python3.10/dist-packages (from youtube-transcript-api) (2.31.0)\n",
            "Requirement already satisfied: anyio in /usr/local/lib/python3.10/dist-packages (from httpx>=0.14.2->youtube-search-python) (3.7.1)\n",
            "Requirement already satisfied: certifi in /usr/local/lib/python3.10/dist-packages (from httpx>=0.14.2->youtube-search-python) (2024.2.2)\n",
            "Collecting httpcore==1.* (from httpx>=0.14.2->youtube-search-python)\n",
            "  Downloading httpcore-1.0.5-py3-none-any.whl (77 kB)\n",
            "\u001b[2K     \u001b[90m━━━━━━━━━━━━━━━━━━━━━━━━━━━━━━━━━━━━━━━━\u001b[0m \u001b[32m77.9/77.9 kB\u001b[0m \u001b[31m4.5 MB/s\u001b[0m eta \u001b[36m0:00:00\u001b[0m\n",
            "\u001b[?25hRequirement already satisfied: idna in /usr/local/lib/python3.10/dist-packages (from httpx>=0.14.2->youtube-search-python) (3.6)\n",
            "Requirement already satisfied: sniffio in /usr/local/lib/python3.10/dist-packages (from httpx>=0.14.2->youtube-search-python) (1.3.1)\n",
            "Collecting h11<0.15,>=0.13 (from httpcore==1.*->httpx>=0.14.2->youtube-search-python)\n",
            "  Downloading h11-0.14.0-py3-none-any.whl (58 kB)\n",
            "\u001b[2K     \u001b[90m━━━━━━━━━━━━━━━━━━━━━━━━━━━━━━━━━━━━━━━━\u001b[0m \u001b[32m58.3/58.3 kB\u001b[0m \u001b[31m3.1 MB/s\u001b[0m eta \u001b[36m0:00:00\u001b[0m\n",
            "\u001b[?25hRequirement already satisfied: charset-normalizer<4,>=2 in /usr/local/lib/python3.10/dist-packages (from requests->youtube-transcript-api) (3.3.2)\n",
            "Requirement already satisfied: urllib3<3,>=1.21.1 in /usr/local/lib/python3.10/dist-packages (from requests->youtube-transcript-api) (2.0.7)\n",
            "Requirement already satisfied: exceptiongroup in /usr/local/lib/python3.10/dist-packages (from anyio->httpx>=0.14.2->youtube-search-python) (1.2.0)\n",
            "Installing collected packages: youtube-dl, h11, youtube-transcript-api, httpcore, httpx, youtube-search-python\n",
            "Successfully installed h11-0.14.0 httpcore-1.0.5 httpx-0.27.0 youtube-dl-2021.12.17 youtube-search-python-1.6.6 youtube-transcript-api-0.6.2\n"
          ]
        }
      ],
      "source": [
        "pip install youtube-search-python youtube-dl youtube-transcript-api"
      ]
    },
    {
      "cell_type": "code",
      "execution_count": 2,
      "metadata": {
        "colab": {
          "base_uri": "https://localhost:8080/"
        },
        "id": "aJIHONI5W9j0",
        "outputId": "7aa0f019-ed26-4fa6-d7a6-a11d12992228"
      },
      "outputs": [
        {
          "name": "stdout",
          "output_type": "stream",
          "text": [
            "Mounted at /content/drive\n"
          ]
        }
      ],
      "source": [
        "from google.colab import drive\n",
        "drive.mount('/content/drive')"
      ]
    },
    {
      "cell_type": "code",
      "execution_count": 3,
      "metadata": {
        "id": "jzvlEHCw0A0q"
      },
      "outputs": [],
      "source": [
        "podcast = 'Conversations'\n",
        "huberman_playlist_url = 'https://youtube.com/playlist?list=PLzVm1SmjPKc_OnC56MbILOmdXvGV_3kE9&si=Z-Z2LossI3miUGaL'"
      ]
    },
    {
      "cell_type": "code",
      "execution_count": 4,
      "metadata": {
        "id": "nOnYu9UY0Tkr"
      },
      "outputs": [],
      "source": [
        "from youtubesearchpython import Playlist\n",
        "\n",
        "def get_videos_from_playlists(playlist_url):\n",
        "  playlist = Playlist(playlist_url)\n",
        "\n",
        "  print(len(playlist.videos))\n",
        "  while playlist.hasMoreVideos:\n",
        "    playlist.getNextVideos()\n",
        "    print(len(playlist.videos))\n",
        "  return playlist"
      ]
    },
    {
      "cell_type": "code",
      "execution_count": 5,
      "metadata": {
        "colab": {
          "base_uri": "https://localhost:8080/"
        },
        "id": "wmNCchWU01fJ",
        "outputId": "e378cfb5-d856-4f94-e8c5-e26e162415ea"
      },
      "outputs": [
        {
          "name": "stdout",
          "output_type": "stream",
          "text": [
            "74\n"
          ]
        }
      ],
      "source": [
        "huberman_playlist = get_videos_from_playlists(huberman_playlist_url)"
      ]
    },
    {
      "cell_type": "code",
      "execution_count": 6,
      "metadata": {
        "colab": {
          "base_uri": "https://localhost:8080/"
        },
        "id": "NaBlOSzJ1Beg",
        "outputId": "148bd52f-75d2-490e-d632-e6372b1799e8"
      },
      "outputs": [
        {
          "data": {
            "text/plain": [
              "74"
            ]
          },
          "execution_count": 6,
          "metadata": {},
          "output_type": "execute_result"
        }
      ],
      "source": [
        "len(huberman_playlist.videos)"
      ]
    },
    {
      "cell_type": "code",
      "execution_count": 7,
      "metadata": {
        "colab": {
          "base_uri": "https://localhost:8080/"
        },
        "id": "iTSs9Q1Q1Gqb",
        "outputId": "dc80c898-4545-48d7-8ae0-d75f8668dbd6"
      },
      "outputs": [
        {
          "data": {
            "text/plain": [
              "{'id': '950u2yxDyxM',\n",
              " 'thumbnails': [{'url': 'https://i.ytimg.com/vi/950u2yxDyxM/hqdefault.jpg?sqp=-oaymwEbCKgBEF5IVfKriqkDDggBFQAAiEIYAXABwAEG&rs=AOn4CLA9Fppa0w35KTmXRcRiTFYs3bjnyA',\n",
              "   'width': 168,\n",
              "   'height': 94},\n",
              "  {'url': 'https://i.ytimg.com/vi/950u2yxDyxM/hqdefault.jpg?sqp=-oaymwEbCMQBEG5IVfKriqkDDggBFQAAiEIYAXABwAEG&rs=AOn4CLBjQD9FcFkrl3i1VozsE4eqm-fbBg',\n",
              "   'width': 196,\n",
              "   'height': 110},\n",
              "  {'url': 'https://i.ytimg.com/vi/950u2yxDyxM/hqdefault.jpg?sqp=-oaymwEcCPYBEIoBSFXyq4qpAw4IARUAAIhCGAFwAcABBg==&rs=AOn4CLCYWFenZCPHM92hZWzpzkS2cDUP-A',\n",
              "   'width': 246,\n",
              "   'height': 138},\n",
              "  {'url': 'https://i.ytimg.com/vi/950u2yxDyxM/hqdefault.jpg?sqp=-oaymwEcCNACELwBSFXyq4qpAw4IARUAAIhCGAFwAcABBg==&rs=AOn4CLBtVPLmFcWbVgroZHuOjy2nyuANpg',\n",
              "   'width': 336,\n",
              "   'height': 188}],\n",
              " 'title': 'English Conversation 32',\n",
              " 'channel': {'name': 'English Conversation',\n",
              "  'id': 'UCVXM96yuiXY3ZT73Dy8HgCA',\n",
              "  'link': '/@Daily-English-Conversation'},\n",
              " 'duration': '30:57',\n",
              " 'accessibility': {'title': 'English Conversation 32 by English Conversation 1,676,320 views 2 years ago 30 minutes',\n",
              "  'duration': '30 minutes, 57 seconds'},\n",
              " 'link': 'https://www.youtube.com/watch?v=950u2yxDyxM&list=PLzVm1SmjPKc_OnC56MbILOmdXvGV_3kE9&index=1&pp=iAQB',\n",
              " 'isPlayable': True}"
            ]
          },
          "execution_count": 7,
          "metadata": {},
          "output_type": "execute_result"
        }
      ],
      "source": [
        "huberman_playlist.videos[0]"
      ]
    },
    {
      "cell_type": "code",
      "execution_count": 8,
      "metadata": {
        "colab": {
          "base_uri": "https://localhost:8080/"
        },
        "id": "OORAB6kF1RoA",
        "outputId": "b69d897c-2f49-42b8-cb77-487c7d464b87"
      },
      "outputs": [
        {
          "data": {
            "text/plain": [
              "{'id': 'Hc-BClOPdRU',\n",
              " 'thumbnails': [{'url': 'https://i.ytimg.com/vi/Hc-BClOPdRU/hqdefault.jpg?sqp=-oaymwEbCKgBEF5IVfKriqkDDggBFQAAiEIYAXABwAEG&rs=AOn4CLB6Ro1TLi7oR5nhsLNsqKeA4U_Y_w',\n",
              "   'width': 168,\n",
              "   'height': 94},\n",
              "  {'url': 'https://i.ytimg.com/vi/Hc-BClOPdRU/hqdefault.jpg?sqp=-oaymwEbCMQBEG5IVfKriqkDDggBFQAAiEIYAXABwAEG&rs=AOn4CLDODfOLaC5UAM7BRJTxbSC5RewL8w',\n",
              "   'width': 196,\n",
              "   'height': 110},\n",
              "  {'url': 'https://i.ytimg.com/vi/Hc-BClOPdRU/hqdefault.jpg?sqp=-oaymwEcCPYBEIoBSFXyq4qpAw4IARUAAIhCGAFwAcABBg==&rs=AOn4CLBZrknNwyuHrOqbe9bMBQe4enXkcQ',\n",
              "   'width': 246,\n",
              "   'height': 138},\n",
              "  {'url': 'https://i.ytimg.com/vi/Hc-BClOPdRU/hqdefault.jpg?sqp=-oaymwEcCNACELwBSFXyq4qpAw4IARUAAIhCGAFwAcABBg==&rs=AOn4CLCi9fBV72unwFwZ4g7MwLWqd8i_XQ',\n",
              "   'width': 336,\n",
              "   'height': 188}],\n",
              " 'title': 'English Conversation 57',\n",
              " 'channel': {'name': 'English Conversation',\n",
              "  'id': 'UClUdkFbhv_MYvP5hGpcROBQ',\n",
              "  'link': '/@TrungNhung'},\n",
              " 'duration': '25:26',\n",
              " 'accessibility': {'title': 'English Conversation 57 by English Conversation 28,418 views 2 years ago 25 minutes',\n",
              "  'duration': '25 minutes, 26 seconds'},\n",
              " 'link': 'https://www.youtube.com/watch?v=Hc-BClOPdRU&list=PLzVm1SmjPKc_OnC56MbILOmdXvGV_3kE9&index=74&pp=iAQB',\n",
              " 'isPlayable': True}"
            ]
          },
          "execution_count": 8,
          "metadata": {},
          "output_type": "execute_result"
        }
      ],
      "source": [
        "huberman_videos = huberman_playlist.videos[::-1]\n",
        "huberman_videos[0]"
      ]
    },
    {
      "cell_type": "code",
      "execution_count": 9,
      "metadata": {
        "id": "P-FPBUpJ1raB"
      },
      "outputs": [],
      "source": [
        "# Improving our previous method\n",
        "\n",
        "def get_videos_from_playlists(playlist_url):\n",
        "  playlist = Playlist(playlist_url)\n",
        "\n",
        "  print(len(playlist.videos))\n",
        "  while playlist.hasMoreVideos:\n",
        "    playlist.getNextVideos()\n",
        "    print(len(playlist.videos))\n",
        "\n",
        "  # revereses our array of videos to have it in the order of release (i.e: episode 1 at the first index)\n",
        "  reverese_playlist = playlist.videos[::-1]\n",
        "  return reverese_playlist"
      ]
    },
    {
      "cell_type": "code",
      "execution_count": 10,
      "metadata": {
        "colab": {
          "base_uri": "https://localhost:8080/"
        },
        "id": "3lxP-DYU2Tqn",
        "outputId": "d69ace9e-75c4-49cf-b7ee-eca296a3b652"
      },
      "outputs": [
        {
          "name": "stdout",
          "output_type": "stream",
          "text": [
            "https://www.youtube.com/watch?v=Hc-BClOPdRU\n"
          ]
        }
      ],
      "source": [
        "for epi, video in enumerate(huberman_videos, 1):\n",
        "  full_video_url = video['link']\n",
        "\n",
        "  playlist_idx = full_video_url.find('&')\n",
        "  video_url = full_video_url[:playlist_idx]\n",
        "\n",
        "  print(video_url)\n",
        "  break"
      ]
    },
    {
      "cell_type": "code",
      "execution_count": null,
      "metadata": {
        "id": "IsKWIJT94Xtj"
      },
      "outputs": [],
      "source": [
        "# get_transcript_from_video('H-XfCl-HpRM', 1)"
      ]
    },
    {
      "cell_type": "code",
      "execution_count": 11,
      "metadata": {
        "id": "dP0GBcol2j75"
      },
      "outputs": [],
      "source": [
        "# from youtube_transcript_api import YouTubeTranscriptApi\n",
        "# from pprint import pprint\n",
        "# import csv\n",
        "\n",
        "# def get_transcript_from_video(video_id, episode):\n",
        "#   transcript_chunks = YouTubeTranscriptApi.get_transcript(video_id, languages=['en-US', 'en'])\n",
        "\n",
        "#   with open(f'/content/drive/MyDrive/YouYube_Data/{podcast}/{podcast}-conversations.csv', 'a', newline='') as f:\n",
        "#     writer = csv.writer(f)\n",
        "#     writer.writerow(['episode', 'time', 'text'])\n",
        "\n",
        "#     for chunk in transcript_chunks:\n",
        "#       time = chunk['start']\n",
        "#       text = chunk['text']\n",
        "#       writer.writerow([episode, time, text])"
      ]
    },
    {
      "cell_type": "code",
      "execution_count": null,
      "metadata": {
        "id": "inMfwmi76HEY"
      },
      "outputs": [],
      "source": [
        "# get_transcript_from_video('H-XfCl-HpRM', 1)"
      ]
    },
    {
      "cell_type": "code",
      "execution_count": null,
      "metadata": {
        "id": "o0Rx7rDV6P0p"
      },
      "outputs": [],
      "source": [
        "# for epi, video in enumerate(huberman_videos, 1):\n",
        "#   full_video_url = video['link']\n",
        "\n",
        "#   playlist_idx = full_video_url.find('&')\n",
        "#   video_url = full_video_url[:playlist_idx]\n",
        "\n",
        "#   vid_idx = video_url.find('=') + 1\n",
        "#   video_id = video_url[vid_idx:]\n",
        "\n",
        "#   get_transcript_from_video(video_id, epi)\n",
        "#   print(f'Episode number {epi} added')"
      ]
    },
    {
      "cell_type": "code",
      "execution_count": 23,
      "metadata": {
        "id": "bFIvJLZi8g6Y"
      },
      "outputs": [],
      "source": [
        "from youtube_transcript_api import YouTubeTranscriptApi\n",
        "from pprint import pprint\n",
        "import csv\n",
        "\n",
        "def get_transcript_from_video_v2(video_id, episode, guest):\n",
        "  try:\n",
        "    transcript_chunks = YouTubeTranscriptApi.get_transcript(video_id, languages=['en-US', 'en'])\n",
        "  except Exception as e:\n",
        "    print(f\"Could not retrieve transcript for video {video_id}: {e}\")\n",
        "    return\n",
        "\n",
        "  with open(f'/content/drive/MyDrive/YouTube_data/{podcast}/{podcast}_v1.csv', 'a', newline='') as f:\n",
        "    writer = csv.writer(f)\n",
        "    writer.writerow(['episode', 'guest', 'time', 'text'])\n",
        "\n",
        "    for i, chunk in enumerate(transcript_chunks):\n",
        "      if i % 2 == 0 and i + 1 < len(transcript_chunks):\n",
        "        text_1 = transcript_chunks[i]['text']\n",
        "        text_2 = transcript_chunks[i+1]['text']\n",
        "        combined_text = text_1 + ' ' + text_2\n",
        "        writer.writerow([episode, guest, chunk['start'], combined_text])"
      ]
    },
    {
      "cell_type": "code",
      "execution_count": null,
      "metadata": {
        "id": "QAh37SR4EZTZ"
      },
      "outputs": [],
      "source": [
        "# get_transcript_from_video_v2('H-XfCl-HpRM', 1, 'Mahmoud')"
      ]
    },
    {
      "cell_type": "code",
      "execution_count": 24,
      "metadata": {
        "colab": {
          "base_uri": "https://localhost:8080/"
        },
        "id": "DUR3Jfyd7BN3",
        "outputId": "6b573ca6-2aa4-4b40-ed7b-5fdf7c092b2c"
      },
      "outputs": [
        {
          "name": "stdout",
          "output_type": "stream",
          "text": [
            "Episode 1 added\n",
            "Episode 2 added\n",
            "Episode 3 added\n",
            "Episode 4 added\n",
            "Episode 5 added\n",
            "Episode 6 added\n",
            "Episode 7 added\n",
            "Episode 8 added\n",
            "Episode 9 added\n",
            "Episode 10 added\n",
            "Episode 11 added\n",
            "Episode 12 added\n",
            "Episode 13 added\n",
            "Episode 14 added\n",
            "Episode 15 added\n",
            "Episode 16 added\n",
            "Episode 17 added\n",
            "Episode 18 added\n",
            "Episode 19 added\n",
            "Episode 20 added\n",
            "Episode 21 added\n",
            "Episode 22 added\n",
            "Episode 23 added\n",
            "Episode 24 added\n",
            "Episode 25 added\n",
            "Episode 26 added\n",
            "Episode 27 added\n",
            "Episode 28 added\n",
            "Episode 29 added\n",
            "Episode 30 added\n",
            "Episode 31 added\n",
            "Episode 32 added\n",
            "Episode 33 added\n",
            "Episode 34 added\n",
            "Episode 35 added\n",
            "Episode 36 added\n",
            "Episode 37 added\n",
            "Episode 38 added\n",
            "Could not retrieve transcript for video h8XbayIhHjU: \n",
            "Could not retrieve a transcript for the video https://www.youtube.com/watch?v=h8XbayIhHjU! This is most likely caused by:\n",
            "\n",
            "Subtitles are disabled for this video\n",
            "\n",
            "If you are sure that the described cause is not responsible for this error and that a transcript should be retrievable, please create an issue at https://github.com/jdepoix/youtube-transcript-api/issues. Please add which version of youtube_transcript_api you are using and provide the information needed to replicate the error. Also make sure that there are no open issues which already describe your problem!\n",
            "Episode 39 added\n",
            "Episode 40 added\n",
            "Episode 41 added\n",
            "Episode 42 added\n",
            "Episode 43 added\n",
            "Episode 44 added\n",
            "Episode 45 added\n",
            "Episode 46 added\n",
            "Episode 47 added\n",
            "Episode 48 added\n",
            "Episode 49 added\n",
            "Episode 50 added\n",
            "Episode 51 added\n",
            "Episode 52 added\n",
            "Episode 53 added\n",
            "Episode 54 added\n",
            "Episode 55 added\n",
            "Episode 56 added\n",
            "Episode 57 added\n",
            "Episode 58 added\n",
            "Episode 59 added\n",
            "Episode 60 added\n",
            "Episode 61 added\n",
            "Episode 62 added\n",
            "Episode 63 added\n",
            "Episode 64 added\n",
            "Episode 65 added\n",
            "Episode 66 added\n",
            "Episode 67 added\n",
            "Episode 68 added\n",
            "Episode 69 added\n",
            "Episode 70 added\n",
            "Episode 71 added\n",
            "Episode 72 added\n",
            "Episode 73 added\n",
            "Episode 74 added\n"
          ]
        }
      ],
      "source": [
        "for epi, video in enumerate(huberman_videos, 1):\n",
        "  full_video_url = video['link']\n",
        "  video_id = video['id']\n",
        "  title = video['title']\n",
        "  guest = None\n",
        "\n",
        "  if title[:2] == 'Dr':\n",
        "    stop_idx = title.find(':')\n",
        "    guest = title[:stop_idx]\n",
        "  elif title[:3] == 'Ric':\n",
        "    guest = 'Rick Rubin'\n",
        "  elif title[:3] == 'Joc':\n",
        "    guest = 'Jocko Willink'\n",
        "\n",
        "  get_transcript_from_video_v2(video_id, epi, guest)\n",
        "  print(f'Episode {epi} added')"
      ]
    },
    {
      "cell_type": "code",
      "execution_count": null,
      "metadata": {},
      "outputs": [],
      "source": []
    }
  ],
  "metadata": {
    "accelerator": "GPU",
    "colab": {
      "gpuType": "T4",
      "provenance": []
    },
    "kernelspec": {
      "display_name": "Python 3",
      "name": "python3"
    },
    "language_info": {
      "name": "python"
    }
  },
  "nbformat": 4,
  "nbformat_minor": 0
}
